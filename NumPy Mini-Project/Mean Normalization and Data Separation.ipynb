{
 "cells": [
  {
   "cell_type": "markdown",
   "metadata": {},
   "source": [
    "# Mean Normalization\n",
    "\n",
    "In machine learning we use large amounts of data to train our models. Some machine learning algorithms may require that the data is *normalized* in order to work correctly. The idea of normalization, also known as *feature scaling*, is to ensure that all the data is on a similar scale, *i.e.* that all the data takes on a similar range of values. For example, we might have a dataset that has values between 0 and 5,000. By normalizing the data we can make the range of values be between 0 and 1.\n",
    "\n",
    "In this lab, you will be performing a different kind of feature scaling known as *mean normalization*. Mean normalization will scale the data, but instead of making the values be between 0 and 1, it will distribute the values evenly in some small interval around zero. For example, if we have a dataset that has values between 0 and 5,000, after mean normalization the range of values will be distributed in some small range around 0, for example between -3 to 3. Because the range of values are distributed evenly around zero, this guarantees that the average (mean) of all elements will be zero. Therefore, when you perform *mean normalization* your data will not only be scaled but it will also have an average of zero. \n",
    "\n",
    "# To Do:\n",
    "\n",
    "You will start by importing NumPy and creating a rank 2 ndarray of random integers between 0 and 5,000 (inclusive) with 1000 rows and 20 columns. This array will simulate a dataset with a wide range of values. Fill in the code below"
   ]
  },
  {
   "cell_type": "code",
   "execution_count": 2,
   "metadata": {},
   "outputs": [
    {
     "name": "stdout",
     "output_type": "stream",
     "text": [
      "(1000, 20)\n"
     ]
    }
   ],
   "source": [
    "# import NumPy into Python\n",
    "import numpy as np\n",
    "\n",
    "# Create a 1000 x 20 ndarray with random integers in the half-open interval [0, 5001).\n",
    "X = np.random.randint(0,5001,size=(1000,20))\n",
    "\n",
    "# print the shape of X\n",
    "print(X.shape)"
   ]
  },
  {
   "cell_type": "markdown",
   "metadata": {},
   "source": [
    "Now that you created the array we will mean normalize it. We will perform mean normalization using the following equation:\n",
    "\n",
    "$\\mbox{Norm_Col}_i = \\frac{\\mbox{Col}_i - \\mu_i}{\\sigma_i}$\n",
    "\n",
    "where $\\mbox{Col}_i$ is the $i$th column of $X$, $\\mu_i$ is average of the values in the $i$th column of $X$, and $\\sigma_i$ is the standard deviation of the values in the $i$th column of $X$. In other words, mean normalization is performed by subtracting from each column of $X$ the average of its values, and then by dividing by the standard deviation of its values. In the space below, you will first calculate the average and standard deviation of each column of $X$. "
   ]
  },
  {
   "cell_type": "code",
   "execution_count": 4,
   "metadata": {},
   "outputs": [],
   "source": [
    "# Average of the values in each column of X\n",
    "ave_cols = np.mean(X,axis = 0)\n",
    "\n",
    "# Standard Deviation of the values in each column of X\n",
    "std_cols = np.std(X,axis = 0)"
   ]
  },
  {
   "cell_type": "markdown",
   "metadata": {},
   "source": [
    "If you have done the above calculations correctly, then `ave_cols` and `std_cols`, should both be vectors with shape `(20,)` since $X$ has 20 columns. You can verify this by filling the code below:"
   ]
  },
  {
   "cell_type": "code",
   "execution_count": 5,
   "metadata": {},
   "outputs": [
    {
     "name": "stdout",
     "output_type": "stream",
     "text": [
      "(20,)\n",
      "(20,)\n"
     ]
    }
   ],
   "source": [
    "# Print the shape of ave_cols\n",
    "print(ave_cols.shape)\n",
    "\n",
    "# Print the shape of std_cols\n",
    "print(std_cols.shape)"
   ]
  },
  {
   "cell_type": "markdown",
   "metadata": {},
   "source": [
    "You can now take advantage of Broadcasting to calculate the mean normalized version of $X$ in just one line of code using the equation above. Fill in the code below"
   ]
  },
  {
   "cell_type": "code",
   "execution_count": 6,
   "metadata": {},
   "outputs": [],
   "source": [
    "# Mean normalize X\n",
    "X_norm = (X - ave_cols) / std_cols"
   ]
  },
  {
   "cell_type": "markdown",
   "metadata": {},
   "source": [
    "If you have performed the mean normalization correctly, then the average of all the elements in $X_{\\tiny{\\mbox{norm}}}$ should be close to zero, and they should be evenly distributed in some small interval around zero. You can verify this by filing the code below:"
   ]
  },
  {
   "cell_type": "code",
   "execution_count": 19,
   "metadata": {},
   "outputs": [
    {
     "name": "stdout",
     "output_type": "stream",
     "text": [
      "The average of all the values of X_norm is: \n",
      "1.4921397450962103e-17\n",
      "1.4921397450962103e-17\n",
      "The average of the minimum value in each column of X_norm is: \n",
      "-1.7173728386167557\n",
      "-1.7173728386167557\n",
      "The average of the maximum value in each column of X_norm is: \n",
      "1.7289984553098747\n",
      "1.7289984553098747\n"
     ]
    }
   ],
   "source": [
    "# Print the average of all the values of X_norm\n",
    "# You can use either the function or a method. So, there are multiple ways to solve. \n",
    "print(\"The average of all the values of X_norm is: \")\n",
    "print(np.mean(X_norm))\n",
    "print(X_norm.mean())\n",
    "\n",
    "# Print the average of the minimum value in each column of X_norm\n",
    "print(\"The average of the minimum value in each column of X_norm is: \")\n",
    "print(X_norm.min(axis = 0).mean())\n",
    "print(np.mean(np.sort(X_norm, axis=0)[0]))\n",
    "\n",
    "# Print the average of the maximum value in each column of X_norm\n",
    "print(\"The average of the maximum value in each column of X_norm is: \")\n",
    "print(np.mean(np.sort(X_norm, axis=0)[-1]))\n",
    "print(X_norm.max(axis = 0).mean())"
   ]
  },
  {
   "cell_type": "markdown",
   "metadata": {},
   "source": [
    "You should note that since $X$ was created using random integers, the above values will vary. \n",
    "\n",
    "# Data Separation\n",
    "\n",
    "After the data has been mean normalized, it is customary in machine learnig to split our dataset into three sets:\n",
    "\n",
    "1. A Training Set\n",
    "2. A Cross Validation Set\n",
    "3. A Test Set\n",
    "\n",
    "The dataset is usually divided such that the Training Set contains 60% of the data, the Cross Validation Set contains 20% of the data, and the Test Set contains 20% of the data. \n",
    "\n",
    "In this part of the lab you will separate `X_norm` into a Training Set, Cross Validation Set, and a Test Set. Each data set will contain rows of `X_norm` chosen at random, making sure that we don't pick the same row twice. This will guarantee that all the rows of `X_norm` are chosen and randomly distributed among the three new sets.\n",
    "\n",
    "You will start by creating a rank 1 ndarray that contains a random permutation of the row indices of `X_norm`. You can do this by using the `np.random.permutation()` function. The `np.random.permutation(N)` function creates a random permutation of integers from 0 to `N - 1`. Let's see an example:"
   ]
  },
  {
   "cell_type": "code",
   "execution_count": 14,
   "metadata": {},
   "outputs": [
    {
     "data": {
      "text/plain": [
       "array([0, 3, 2, 4, 1])"
      ]
     },
     "execution_count": 14,
     "metadata": {},
     "output_type": "execute_result"
    }
   ],
   "source": [
    "# We create a random permutation of integers 0 to 4\n",
    "np.random.permutation(5)"
   ]
  },
  {
   "cell_type": "markdown",
   "metadata": {},
   "source": [
    "# To Do\n",
    "\n",
    "In the space below create a rank 1 ndarray that contains a random permutation of the row indices of `X_norm`. You can do this in one line of code by extracting the number of rows of `X_norm` using the `shape` attribute and then passing it to the  `np.random.permutation()` function. Remember the `shape` attribute returns a tuple with two numbers in the form `(rows,columns)`."
   ]
  },
  {
   "cell_type": "code",
   "execution_count": 24,
   "metadata": {},
   "outputs": [
    {
     "name": "stdout",
     "output_type": "stream",
     "text": [
      "[217 195 708 418 400 790 813 822 354 446 755 716 956  90 299 706 951 806\n",
      " 983 561 141 570 494 385  37 733 846 489 237 737 767 817 578 893 899 442\n",
      " 557 665 865 832 276 162  83 676 786  23 705 609 358  59 642 183 373  36\n",
      " 797 256 823 664 748 204 543 238 199 294 150 312 914 295 313  50 684 906\n",
      " 595 429 499 332 156 235 887 662  80 158 652 326 569 179 784 735 855  65\n",
      " 120 928 978 644 624 474 426 435 663 301 181 715 209 953 757 796 670  12\n",
      " 477 622 795 151 868 772 824 191 759 201 819 558 114 200 729  45 802 225\n",
      " 971 368 905 651 919 411 567  92 413 958 244 283 841 475 991 300 789 503\n",
      " 937 320 521 110 925 763 481 907 316 829 725 343 587 270 747 379  70 811\n",
      "  95 945  51 599 438 555 545 165 321 500 305 804 835   4 447 764 121 482\n",
      " 954 149 639 125 467 779 273 592 453 491 539 357 210 879 831   0 840 548\n",
      " 517 444 245 631 462 704 148  62 773 524 513  54  53  44 709 809 675 749\n",
      " 281  35 740 933   5 825 487 926 439 586 898 146 649 874 847 478 884 372\n",
      "  20 628 575 938  94 844   2 460 157 496 732 935 414 152 422 269 268 384\n",
      " 842 480 378 514 498 712 563 396 995 456 944 106 860 547 169 856 166 621\n",
      " 943 236 878 711 135 722 952 174 869 369 964 799 950 967  21 891 619  79\n",
      " 738 518 531  89 997 246 187 220 904 810 108 985 970 239 271  76 130 485\n",
      " 896 591 406 458 160 167 317 930 147 683 325 731 257 920  68 707 387 900\n",
      " 403 329 280 388 193  86 648 610 360 350 745 988 417 363  97 307 762  96\n",
      " 552 218 634 161 700  40 140  28 564 109 258 298 571 870 230 881 436 886\n",
      " 285 102 775 632 302 495 367 980 542 710 132 801 961 448 115 262 189 623\n",
      " 698 851 939 756 173  99 588 427 471 949 213 493 646 490 643 629 290 685\n",
      "  67 736 593 942 303 278 821 903 890 327 454 216 892 873  48  25 598  84\n",
      "  56 412 430 192 502 889 655 526 679 957 359  46 250 223 279 525 888 483\n",
      " 750 838 657 337  87 116 308 551  85 424 777 807 843 692 791  74 999 356\n",
      " 399  17 529  73 119 559 674 134 293 768  10  33 607 497 253 261 778 975\n",
      " 347 854 472 866 724 266 304 131 834  39 940 701 602 713 445 720 858 669\n",
      " 972 617 118  91 625  72 508 164 536   7  24 292  13 981  47 107 785 853\n",
      " 196 420 440 678 376 717 852 922 226 371   8  43 443 111 319 100 581 660\n",
      " 754 695 297 696 408 333 509 932 908 393   9 689 776  29 248 103 255 428\n",
      " 702 658 410 604 915 397 826 197 537 936 136  18 331 431 315 296 465 113\n",
      " 546 252 172 626 760 848 341 398 780 205 139 128 339 871 432  77 138 616\n",
      "  15 415  78 185 170 459 803 876 568 793 859 507 783 615 392 688 469 982\n",
      " 612 994 672 377  93 549 402 601 690 699 145 805 948 577 242 627 234 645\n",
      " 863 836 264 274 837 409 687 232 516 286 176 910  66 721 787 912 771 974\n",
      " 318 727 650 746 800 635 541 528   6 168 374 127 330 340 184 993 636 814\n",
      " 177 921 133 473 190 603 885 233 633  98  82 741 673 668 323 638 228 538\n",
      " 504  88 470 883 463  31 247 375 186 584 565 222 175 882 461 479 450  19\n",
      " 901 221  58 349 583 112 515  34 275 818 229 505  38 249 875 544 765 370\n",
      " 839 338 492 820 405 618 742 263 877  41 880 682 656 815   1 553 828  71\n",
      " 782 916 401 554  55 423  60 911 336 510 231 667  22 556 613 198 386  26\n",
      " 734 129 996 611 573 897 137 404 464 389 600 973 902 476 640 206 597 101\n",
      " 394 466 352 171 990 703 680 437 697 117 144 572 766 723 726 214 562 345\n",
      " 781 661 506 523  27 143 580 566 533 227 976 259 744 353 202 364 606 653\n",
      " 355 965 963 798 998 346 849 605 947 728 452 361 324 240 334 322 419 328\n",
      " 590 752 532 761 520  11 924 739 365 407 124 530 960 977 241 277  69 647\n",
      " 425 455 381 159 931 857 540 927 451 986 894 311 941 501 918 560 527 862\n",
      " 959 468 585 758 579 126 753 366 486 671 666 416 314 637 180 909 929 282\n",
      " 594 142 962 641 182 208 154 794 488 351  32 992 243   3  49 163 582 589\n",
      " 691 694 155 522 441 457 105 955 946 212 677 265 421 816 719 614 534 550\n",
      " 219 449 574 850 576 788  16  52 987 123 434 966 382 934 984 291 310 309\n",
      " 288 630 864 251 215 872 830 511 178 693 923 260 827 718 535 512 989 686\n",
      " 153 979 769 188 395 391 913 287  42  61 203 845 122  30 194 380 895 620\n",
      " 833 681 224 519 714 289  75 596 808 861  64 383 792 659 362 390 730 433\n",
      " 751 104 348 654 272 306 774 344 484  14 917 267 867 608  63 342 968 207\n",
      " 211 284  57 743 770 335 254 812  81 969]\n"
     ]
    }
   ],
   "source": [
    "# Create a rank 1 ndarray that contains a random permutation of the row indices of `X_norm`\n",
    "row_indices = np.random.permutation(X_norm.shape[0])\n",
    "print(row_indices)"
   ]
  },
  {
   "cell_type": "markdown",
   "metadata": {},
   "source": [
    "Now you can create the three datasets using the `row_indices` ndarray to select the rows that will go into each dataset. Rememeber that the Training Set contains 60% of the data, the Cross Validation Set contains 20% of the data, and the Test Set contains 20% of the data. Each set requires just one line of code to create. Fill in the code below"
   ]
  },
  {
   "cell_type": "code",
   "execution_count": 22,
   "metadata": {},
   "outputs": [],
   "source": [
    "# Make any necessary calculations.\n",
    "# You can save your calculations into variables to use later.\n",
    "\n",
    "sixty = int(len(X_norm)*0.6)\n",
    "eighty = int(len(X_norm)*0.8)\n",
    "\n",
    "\n",
    "\n",
    "# Create a Training Set\n",
    "X_train = X_norm[row_indices[:sixty],:]\n",
    "\n",
    "# Create a Cross Validation Set\n",
    "X_crossVal = X_norm[row_indices[sixty:eighty],:]\n",
    "\n",
    "# Create a Test Set\n",
    "X_test = X_norm[row_indices[eighty:],:]"
   ]
  },
  {
   "cell_type": "markdown",
   "metadata": {},
   "source": [
    "If you performed the above calculations correctly, then `X_tain` should have 600 rows and 20 columns, `X_crossVal` should have 200 rows and 20 columns, and `X_test` should have 200 rows and 20 columns. You can verify this by filling the code below:"
   ]
  },
  {
   "cell_type": "code",
   "execution_count": 23,
   "metadata": {},
   "outputs": [
    {
     "name": "stdout",
     "output_type": "stream",
     "text": [
      "(600, 20)\n",
      "(200, 20)\n",
      "(200, 20)\n"
     ]
    }
   ],
   "source": [
    "# Print the shape of X_train\n",
    "print(X_train.shape)\n",
    "\n",
    "# Print the shape of X_crossVal\n",
    "print(X_crossVal.shape)\n",
    "\n",
    "\n",
    "# Print the shape of X_test\n",
    "print(X_test.shape)\n"
   ]
  },
  {
   "cell_type": "code",
   "execution_count": null,
   "metadata": {},
   "outputs": [],
   "source": []
  }
 ],
 "metadata": {
  "kernelspec": {
   "display_name": "Python 3 (ipykernel)",
   "language": "python",
   "name": "python3"
  },
  "language_info": {
   "codemirror_mode": {
    "name": "ipython",
    "version": 3
   },
   "file_extension": ".py",
   "mimetype": "text/x-python",
   "name": "python",
   "nbconvert_exporter": "python",
   "pygments_lexer": "ipython3",
   "version": "3.9.15"
  }
 },
 "nbformat": 4,
 "nbformat_minor": 2
}
